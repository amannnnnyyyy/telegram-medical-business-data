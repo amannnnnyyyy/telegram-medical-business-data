{
 "cells": [
  {
   "cell_type": "markdown",
   "metadata": {},
   "source": [
    "> # Necessary Imports"
   ]
  },
  {
   "cell_type": "code",
   "execution_count": 1,
   "metadata": {},
   "outputs": [],
   "source": [
    "import pandas as pd\n",
    "import logging\n",
    "import os\n",
    "import sys\n",
    "sys.path.append('../')\n",
    "\n",
    "from dotenv import load_dotenv\n",
    "load_dotenv()\n",
    "\n",
    "import sys\n",
    "sys.path.append('../')\n",
    "\n",
    "from scripts.scrapping import *\n",
    "from scripts.setting import *\n",
    "from scripts.cleaning import *"
   ]
  },
  {
   "cell_type": "markdown",
   "metadata": {},
   "source": [
    "> # Telegram Access keys"
   ]
  },
  {
   "cell_type": "code",
   "execution_count": 2,
   "metadata": {},
   "outputs": [],
   "source": [
    "api_id = os.getenv('TELEGRAM_API_ID')\n",
    "api_hash = os.getenv('TELEGRAM_API_HASH')\n",
    "phone = os.getenv('TELEGRAM_PHONE')"
   ]
  },
  {
   "cell_type": "markdown",
   "metadata": {},
   "source": [
    "> # Logging"
   ]
  },
  {
   "cell_type": "code",
   "execution_count": 3,
   "metadata": {},
   "outputs": [],
   "source": [
    "logging.basicConfig(filename='../logs/scraping.log', level=logging.INFO, \n",
    "                    format='%(asctime)s:%(levelname)s:%(message)s')\n",
    "\n",
    "RAW_DATA_PATH = '../docs/raw/'\n",
    "IMAGE_DATA_PATH = '../docs/images/'"
   ]
  },
  {
   "cell_type": "markdown",
   "metadata": {},
   "source": [
    "> # Scrapping"
   ]
  },
  {
   "cell_type": "code",
   "execution_count": 8,
   "metadata": {},
   "outputs": [],
   "source": [
    "import asyncio\n",
    "\n",
    "async def main():\n",
    "    await scrapping(logging, api_id, api_hash, RAW_DATA_PATH, IMAGE_DATA_PATH)\n",
    "\n",
    "await main()"
   ]
  },
  {
   "cell_type": "code",
   "execution_count": 9,
   "metadata": {},
   "outputs": [],
   "source": [
    "notebook_settings()"
   ]
  },
  {
   "cell_type": "markdown",
   "metadata": {},
   "source": [
    ">> ## Scrapped Data"
   ]
  },
  {
   "cell_type": "code",
   "execution_count": 10,
   "metadata": {},
   "outputs": [
    {
     "data": {
      "text/html": [
       "<div>\n",
       "<style scoped>\n",
       "    .dataframe tbody tr th:only-of-type {\n",
       "        vertical-align: middle;\n",
       "    }\n",
       "\n",
       "    .dataframe tbody tr th {\n",
       "        vertical-align: top;\n",
       "    }\n",
       "\n",
       "    .dataframe thead th {\n",
       "        text-align: right;\n",
       "    }\n",
       "</style>\n",
       "<table border=\"1\" class=\"dataframe\">\n",
       "  <thead>\n",
       "    <tr style=\"text-align: right;\">\n",
       "      <th></th>\n",
       "      <th>channel_name</th>\n",
       "      <th>message_id</th>\n",
       "      <th>date</th>\n",
       "      <th>text</th>\n",
       "      <th>image_path</th>\n",
       "    </tr>\n",
       "  </thead>\n",
       "  <tbody>\n",
       "    <tr>\n",
       "      <th>10</th>\n",
       "      <td>CheMed123</td>\n",
       "      <td>97</td>\n",
       "      <td>2023-02-10 12:23:06</td>\n",
       "      <td>⚠️**Notice!\\n**Dear esteemed customers,\\nDue to four-day motorbike movement restrictions, we have limited our services to matchmaking,drug information, and medical consultation only.\\n\\n**N.B. \\n**🔅We will make deliveries for those for whom the medications are urgent.\\n🔅You can book deliveries starting from Monday, February 13, 2023</td>\n",
       "      <td>../docs/images/photo_2024-10-15_19-10-15.jpg</td>\n",
       "    </tr>\n",
       "    <tr>\n",
       "      <th>11</th>\n",
       "      <td>CheMed123</td>\n",
       "      <td>96</td>\n",
       "      <td>2023-02-02 08:58:52</td>\n",
       "      <td>Mela-One በውስጡ ሆርሞን ያለው ድንገተኛ ወሊድ መቆጣጠርያ ሲሆን ያለመከላከያ የተደረገ የግብረስጋ ግንኙነት ሲኖር በ72 ሰዓታት ወስጥ መወሰድ ይኖርበታል።\\n\\n📌ከChe-Med ለማዘዝ፡ \\nበቴሌግራም ግሩፓችን- t.me/CheMeds\\nዌብሳይት- www.chemeds.org\\nይዘዙን።</td>\n",
       "      <td>../docs/images/photo_2024-10-15_19-10-16.jpg</td>\n",
       "    </tr>\n",
       "    <tr>\n",
       "      <th>12</th>\n",
       "      <td>CheMed123</td>\n",
       "      <td>95</td>\n",
       "      <td>2023-02-01 08:59:37</td>\n",
       "      <td>**አዚትሮማይሲን** በሃኪም መድሃኒት ማዘዣ ከሚታዘዙ አንቲባዮቲኮች አንዱ ሲሆን በርከት ያሉ ባክቴርያዎችን ይገላል።\\n\\nበቀን አንዴ ለ3 ቀናት ምግብ ከመብላታችን 1 ሰዓት ቀደም ብሎ ወይንም ከበላን ከ 2 ሰዓት በኋላ መወሰድ ይኖርበታል።\\n\\n📌የሃኪም ማዘዣ ካልዎት \\nበቴሌግራም ግሩፓችን-t.me/CheMeds\\nዌብሳይት- www.chemeds.org\\nይላኩልን።</td>\n",
       "      <td>../docs/images/photo_2024-10-15_19-10-17.jpg</td>\n",
       "    </tr>\n",
       "    <tr>\n",
       "      <th>13</th>\n",
       "      <td>CheMed123</td>\n",
       "      <td>94</td>\n",
       "      <td>2023-01-31 09:19:53</td>\n",
       "      <td>**Che-Med Trivia #3\\n\\n**ምግብና መጠጦች አንዳንድ መድሃኒቶች በደንብ እንዳይሰሩ ሊያደርጉ ይችላሉ። በዚህ ሁኔታ እነዚህን መድሃኒቶች ምግብ ከወሰድን ከ1 ሰዓት እስከ 2 ሰዓት ባለ ጊዜ ውስጥ መውሰድ ያስፈልግዎታል።\\n\\nከነዚህም ወስጥ **የእንቅርት መድሃኒቶች፣Omeprazole፣Sildenafil(Viagra)፣Captopril እና Ampicillin** ይጠቀሳሉ።\\n\\nመድሃኒትዎ ከምግብ ጋር ያለውን አወሳሰድ እርግጠኛ ካልሆኑ ሃኪምዎን ወይም ፋርማሲስትዎን ያማክሩ።</td>\n",
       "      <td>../docs/images/photo_2024-10-15_19-10-17 (1).jpg</td>\n",
       "    </tr>\n",
       "    <tr>\n",
       "      <th>14</th>\n",
       "      <td>CheMed123</td>\n",
       "      <td>93</td>\n",
       "      <td>2023-01-30 09:45:25</td>\n",
       "      <td>**Che-Med Trivia #2\\n\\n**እንደ Ciprofloxacin, Doxycycline, Levothyroxine, Iron supplement ያሉ መድሃኒቶችን ከወተት እና ከወተት ተዋፅዖዎች ጋር እንዲሁም ከእንቁላል ጋር መውሰድ መድሃኒቶቹ በሰውነታችን የሚፈለገውን ስራ እንዳይሰሩ ያደርጋቸዋል።\\n\\nይህም በወተት ተዋጽኦዎች ውስጥ ያለው ካልሲየም እነዚህ መድሃኒቶች በሰውታችን ወስጥ እንዳይዋህዱ ጣልቃ ስለሚገባ ነው።</td>\n",
       "      <td>../docs/images/photo_2024-10-15_19-10-18.jpg</td>\n",
       "    </tr>\n",
       "  </tbody>\n",
       "</table>\n",
       "</div>"
      ],
      "text/plain": [
       "   channel_name  message_id                 date  \\\n",
       "10    CheMed123          97  2023-02-10 12:23:06   \n",
       "11    CheMed123          96  2023-02-02 08:58:52   \n",
       "12    CheMed123          95  2023-02-01 08:59:37   \n",
       "13    CheMed123          94  2023-01-31 09:19:53   \n",
       "14    CheMed123          93  2023-01-30 09:45:25   \n",
       "\n",
       "                                                                                                                                                                                                                                                                                                                                              text  \\\n",
       "10  ⚠️**Notice!\\n**Dear esteemed customers,\\nDue to four-day motorbike movement restrictions, we have limited our services to matchmaking,drug information, and medical consultation only.\\n\\n**N.B. \\n**🔅We will make deliveries for those for whom the medications are urgent.\\n🔅You can book deliveries starting from Monday, February 13, 2023   \n",
       "11                                                                                                                                                             Mela-One በውስጡ ሆርሞን ያለው ድንገተኛ ወሊድ መቆጣጠርያ ሲሆን ያለመከላከያ የተደረገ የግብረስጋ ግንኙነት ሲኖር በ72 ሰዓታት ወስጥ መወሰድ ይኖርበታል።\\n\\n📌ከChe-Med ለማዘዝ፡ \\nበቴሌግራም ግሩፓችን- t.me/CheMeds\\nዌብሳይት- www.chemeds.org\\nይዘዙን።   \n",
       "12                                                                                                           **አዚትሮማይሲን** በሃኪም መድሃኒት ማዘዣ ከሚታዘዙ አንቲባዮቲኮች አንዱ ሲሆን በርከት ያሉ ባክቴርያዎችን ይገላል።\\n\\nበቀን አንዴ ለ3 ቀናት ምግብ ከመብላታችን 1 ሰዓት ቀደም ብሎ ወይንም ከበላን ከ 2 ሰዓት በኋላ መወሰድ ይኖርበታል።\\n\\n📌የሃኪም ማዘዣ ካልዎት \\nበቴሌግራም ግሩፓችን-t.me/CheMeds\\nዌብሳይት- www.chemeds.org\\nይላኩልን።   \n",
       "13                                   **Che-Med Trivia #3\\n\\n**ምግብና መጠጦች አንዳንድ መድሃኒቶች በደንብ እንዳይሰሩ ሊያደርጉ ይችላሉ። በዚህ ሁኔታ እነዚህን መድሃኒቶች ምግብ ከወሰድን ከ1 ሰዓት እስከ 2 ሰዓት ባለ ጊዜ ውስጥ መውሰድ ያስፈልግዎታል።\\n\\nከነዚህም ወስጥ **የእንቅርት መድሃኒቶች፣Omeprazole፣Sildenafil(Viagra)፣Captopril እና Ampicillin** ይጠቀሳሉ።\\n\\nመድሃኒትዎ ከምግብ ጋር ያለውን አወሳሰድ እርግጠኛ ካልሆኑ ሃኪምዎን ወይም ፋርማሲስትዎን ያማክሩ።   \n",
       "14                                                                          **Che-Med Trivia #2\\n\\n**እንደ Ciprofloxacin, Doxycycline, Levothyroxine, Iron supplement ያሉ መድሃኒቶችን ከወተት እና ከወተት ተዋፅዖዎች ጋር እንዲሁም ከእንቁላል ጋር መውሰድ መድሃኒቶቹ በሰውነታችን የሚፈለገውን ስራ እንዳይሰሩ ያደርጋቸዋል።\\n\\nይህም በወተት ተዋጽኦዎች ውስጥ ያለው ካልሲየም እነዚህ መድሃኒቶች በሰውታችን ወስጥ እንዳይዋህዱ ጣልቃ ስለሚገባ ነው።   \n",
       "\n",
       "                                          image_path  \n",
       "10      ../docs/images/photo_2024-10-15_19-10-15.jpg  \n",
       "11      ../docs/images/photo_2024-10-15_19-10-16.jpg  \n",
       "12      ../docs/images/photo_2024-10-15_19-10-17.jpg  \n",
       "13  ../docs/images/photo_2024-10-15_19-10-17 (1).jpg  \n",
       "14      ../docs/images/photo_2024-10-15_19-10-18.jpg  "
      ]
     },
     "execution_count": 10,
     "metadata": {},
     "output_type": "execute_result"
    }
   ],
   "source": [
    "data = pd.read_csv('../docs/raw/all_scraped_messages.csv')\n",
    "data[data['channel_name']=='CheMed123'].head()"
   ]
  },
  {
   "cell_type": "markdown",
   "metadata": {},
   "source": [
    "> # Cleaning the Data"
   ]
  },
  {
   "cell_type": "code",
   "execution_count": 11,
   "metadata": {},
   "outputs": [
    {
     "name": "stderr",
     "output_type": "stream",
     "text": [
      "/home/aman/Documents/10Academy/week7/notebooks/../scripts/cleaning.py:5: FutureWarning: A value is trying to be set on a copy of a DataFrame or Series through chained assignment using an inplace method.\n",
      "The behavior will change in pandas 3.0. This inplace method will never work because the intermediate object on which we are setting values always behaves as a copy.\n",
      "\n",
      "For example, when doing 'df[col].method(value, inplace=True)', try using 'df.method({col: value}, inplace=True)' or df[col] = df[col].method(value) instead, to perform the operation inplace on the original object.\n",
      "\n",
      "\n",
      "  data['text'].fillna('No text', inplace=True)\n",
      "/home/aman/Documents/10Academy/week7/notebooks/../scripts/cleaning.py:7: FutureWarning: A value is trying to be set on a copy of a DataFrame or Series through chained assignment using an inplace method.\n",
      "The behavior will change in pandas 3.0. This inplace method will never work because the intermediate object on which we are setting values always behaves as a copy.\n",
      "\n",
      "For example, when doing 'df[col].method(value, inplace=True)', try using 'df.method({col: value}, inplace=True)' or df[col] = df[col].method(value) instead, to perform the operation inplace on the original object.\n",
      "\n",
      "\n",
      "  data['image_path'].fillna('No image', inplace=True)\n"
     ]
    }
   ],
   "source": [
    "cleaning(data)"
   ]
  },
  {
   "cell_type": "markdown",
   "metadata": {},
   "source": [
    ">> ## Cleaned Data"
   ]
  },
  {
   "cell_type": "code",
   "execution_count": 12,
   "metadata": {},
   "outputs": [
    {
     "data": {
      "text/html": [
       "<div>\n",
       "<style scoped>\n",
       "    .dataframe tbody tr th:only-of-type {\n",
       "        vertical-align: middle;\n",
       "    }\n",
       "\n",
       "    .dataframe tbody tr th {\n",
       "        vertical-align: top;\n",
       "    }\n",
       "\n",
       "    .dataframe thead th {\n",
       "        text-align: right;\n",
       "    }\n",
       "</style>\n",
       "<table border=\"1\" class=\"dataframe\">\n",
       "  <thead>\n",
       "    <tr style=\"text-align: right;\">\n",
       "      <th></th>\n",
       "      <th>channel_name</th>\n",
       "      <th>message_id</th>\n",
       "      <th>date</th>\n",
       "      <th>text</th>\n",
       "      <th>image_path</th>\n",
       "    </tr>\n",
       "  </thead>\n",
       "  <tbody>\n",
       "    <tr>\n",
       "      <th>0</th>\n",
       "      <td>DoctorsET</td>\n",
       "      <td>864</td>\n",
       "      <td>2023-12-18 17:04:02</td>\n",
       "      <td>https://youtu.be/5DBoEm-8kmA?si=LDLuEecNfULJVDzL   👈👈\\n\\nበቀን አንዴ ብቻ የሚባለው የቢዝነስ አማካሪ \\n\\nበ 10,000 ብር ብቻ የተጀመረ ቢዝነስ እስከ ሚሊየኖች ያየገው የፕራግማ ኢንቨስትመንት መስራች መርድ ብስራት \\n\\nብላክ ማርኬት ዋጋ ማነው ሚተምነው ?\\n\\nኢትዮጵያ ውስጥ ቢዝነስ ለመጀመር ጥሩ ሰአት ነው ወይ ??\\n\\n3 ቢዝነስ ስንጀምር የምንሰራው ስህተቶች !\\n\\nአሁኑኑ ይመልከተቱ  👇👇\\n\\nhttps://youtu.be/5DBoEm-8kmA?si=LDLuEecNfULJVDzL</td>\n",
       "      <td>No image</td>\n",
       "    </tr>\n",
       "    <tr>\n",
       "      <th>1</th>\n",
       "      <td>DoctorsET</td>\n",
       "      <td>863</td>\n",
       "      <td>2023-11-03 16:14:39</td>\n",
       "      <td>ዶክተርስ ኢትዮጵያ በ አዲስ አቀራረብ በ ቴሌቪዥን ፕሮግራሙን ለመጀመር ከፋተኛ ዝግጅት በማድረግ ላይ ይገኛል ።\\n\\nዩሃንስ ግርማ ጆኒ ( በ ቲክቶክ ከ 500,000) በላይ ተከታይ ያገኘው ከ አሜሪካ ወደ ኢትዮጵያ \\nገንዳ ውስጥ ከመተኛት እስከ ከፋተኛ ተከፋይ በኢትዮጵያ ( 1 take production ) በመባል የሚታወቀው ዩሃንስ ግርማ ( ጆኒ) \\n\\nከዲፕሬሽን እስከ ታዋቂነትን ያተረፈው ጆኒ \\n\\nአሁኑኑ ይመልከቱ 👇\\n\\nhttps://youtu.be/gwVN5eJQpko?si=xARsSxIEdZtE91GY</td>\n",
       "      <td>No image</td>\n",
       "    </tr>\n",
       "    <tr>\n",
       "      <th>2</th>\n",
       "      <td>DoctorsET</td>\n",
       "      <td>862</td>\n",
       "      <td>2023-10-02 16:37:39</td>\n",
       "      <td>ሞት በስኳር \\n\\nለልጆቻችን የምናሲዘው ምሳቃ ሳናቀው እድሚያቸውን ይቀንሰው ይሆን \\n\\nየታሸገ ትክክለኛ ጁስ ኢትዮጵያ ውስጥ የለም...!\\n\\nሁሉም ወላጅ ሊያየው የሚገባ\\n\\nየታሸጉ ጁሶች መጠጣት እራስን ለከፍተኛ ጉዳት እስከ ሞት ድረስ ማጋለጥ ነው !\\n\\nለሁሉም ኢኮኖሚ ጤናንም የሚጠብቅ አመጋገብ የቱ ነው??\\n\\nhttps://youtu.be/oHiSRrNF7I0?si=Absgm414YSt_kjNq</td>\n",
       "      <td>No image</td>\n",
       "    </tr>\n",
       "    <tr>\n",
       "      <th>3</th>\n",
       "      <td>DoctorsET</td>\n",
       "      <td>861</td>\n",
       "      <td>2023-09-16 07:54:32</td>\n",
       "      <td>ከ HIV የተፈወሰ ሰው አጋጥሟችሁ ያቃል ? ፈውስ እና ህክምና ?\\n\\nሙሉ ቪዲዮውን ተመልክተው ሃሳብ አስተያየቶን ያካፍሉን 👇👇👇👇\\n\\nhttps://youtu.be/tTeErZxIh_Q?si=jKHyfWcC3sfXbC8L</td>\n",
       "      <td>No image</td>\n",
       "    </tr>\n",
       "    <tr>\n",
       "      <th>4</th>\n",
       "      <td>DoctorsET</td>\n",
       "      <td>860</td>\n",
       "      <td>2023-09-01 16:16:15</td>\n",
       "      <td>በቅርብ ጊዜ በሃገራችን ላይ እየተስተዋለ ያለ የተመሳሳይ ፆታ ( Homosexuality ) ግብረ ሰዶም በተለያዩ ቦታዎች ላይ እየታየ ይገኛል\\n\\nይህም አጥብቀን ምንቃወመው ጉዳይ ሲሆን \\n\\n- ይህ ችግር በህምና ይለያል ወይ ?\\n- ቅድመ ምልክት አለው ወይ ?\\n\\nወላጆች ልጆቻችሁን እንዴት መጠበቅ ትችላለቹ ህክምናስ አለው ወይ ??\\n\\nበምንመገበው ምግብ ሊቀይሩየን ይችላሉ ወይ ? \\n\\nአሁኑኑ ገብተው ሙሉ ቪዲዮውን ይመልከቱ !\\n\\nhttps://youtu.be/0k65P5ouw7s?si=qaUgo75bUa3AMQxD</td>\n",
       "      <td>No image</td>\n",
       "    </tr>\n",
       "  </tbody>\n",
       "</table>\n",
       "</div>"
      ],
      "text/plain": [
       "  channel_name  message_id                 date  \\\n",
       "0    DoctorsET         864  2023-12-18 17:04:02   \n",
       "1    DoctorsET         863  2023-11-03 16:14:39   \n",
       "2    DoctorsET         862  2023-10-02 16:37:39   \n",
       "3    DoctorsET         861  2023-09-16 07:54:32   \n",
       "4    DoctorsET         860  2023-09-01 16:16:15   \n",
       "\n",
       "                                                                                                                                                                                                                                                                                                                                       text  \\\n",
       "0  https://youtu.be/5DBoEm-8kmA?si=LDLuEecNfULJVDzL   👈👈\\n\\nበቀን አንዴ ብቻ የሚባለው የቢዝነስ አማካሪ \\n\\nበ 10,000 ብር ብቻ የተጀመረ ቢዝነስ እስከ ሚሊየኖች ያየገው የፕራግማ ኢንቨስትመንት መስራች መርድ ብስራት \\n\\nብላክ ማርኬት ዋጋ ማነው ሚተምነው ?\\n\\nኢትዮጵያ ውስጥ ቢዝነስ ለመጀመር ጥሩ ሰአት ነው ወይ ??\\n\\n3 ቢዝነስ ስንጀምር የምንሰራው ስህተቶች !\\n\\nአሁኑኑ ይመልከተቱ  👇👇\\n\\nhttps://youtu.be/5DBoEm-8kmA?si=LDLuEecNfULJVDzL   \n",
       "1         ዶክተርስ ኢትዮጵያ በ አዲስ አቀራረብ በ ቴሌቪዥን ፕሮግራሙን ለመጀመር ከፋተኛ ዝግጅት በማድረግ ላይ ይገኛል ።\\n\\nዩሃንስ ግርማ ጆኒ ( በ ቲክቶክ ከ 500,000) በላይ ተከታይ ያገኘው ከ አሜሪካ ወደ ኢትዮጵያ \\nገንዳ ውስጥ ከመተኛት እስከ ከፋተኛ ተከፋይ በኢትዮጵያ ( 1 take production ) በመባል የሚታወቀው ዩሃንስ ግርማ ( ጆኒ) \\n\\nከዲፕሬሽን እስከ ታዋቂነትን ያተረፈው ጆኒ \\n\\nአሁኑኑ ይመልከቱ 👇\\n\\nhttps://youtu.be/gwVN5eJQpko?si=xARsSxIEdZtE91GY   \n",
       "2                                                                              ሞት በስኳር \\n\\nለልጆቻችን የምናሲዘው ምሳቃ ሳናቀው እድሚያቸውን ይቀንሰው ይሆን \\n\\nየታሸገ ትክክለኛ ጁስ ኢትዮጵያ ውስጥ የለም...!\\n\\nሁሉም ወላጅ ሊያየው የሚገባ\\n\\nየታሸጉ ጁሶች መጠጣት እራስን ለከፍተኛ ጉዳት እስከ ሞት ድረስ ማጋለጥ ነው !\\n\\nለሁሉም ኢኮኖሚ ጤናንም የሚጠብቅ አመጋገብ የቱ ነው??\\n\\nhttps://youtu.be/oHiSRrNF7I0?si=Absgm414YSt_kjNq   \n",
       "3                                                                                                                                                                                                   ከ HIV የተፈወሰ ሰው አጋጥሟችሁ ያቃል ? ፈውስ እና ህክምና ?\\n\\nሙሉ ቪዲዮውን ተመልክተው ሃሳብ አስተያየቶን ያካፍሉን 👇👇👇👇\\n\\nhttps://youtu.be/tTeErZxIh_Q?si=jKHyfWcC3sfXbC8L   \n",
       "4   በቅርብ ጊዜ በሃገራችን ላይ እየተስተዋለ ያለ የተመሳሳይ ፆታ ( Homosexuality ) ግብረ ሰዶም በተለያዩ ቦታዎች ላይ እየታየ ይገኛል\\n\\nይህም አጥብቀን ምንቃወመው ጉዳይ ሲሆን \\n\\n- ይህ ችግር በህምና ይለያል ወይ ?\\n- ቅድመ ምልክት አለው ወይ ?\\n\\nወላጆች ልጆቻችሁን እንዴት መጠበቅ ትችላለቹ ህክምናስ አለው ወይ ??\\n\\nበምንመገበው ምግብ ሊቀይሩየን ይችላሉ ወይ ? \\n\\nአሁኑኑ ገብተው ሙሉ ቪዲዮውን ይመልከቱ !\\n\\nhttps://youtu.be/0k65P5ouw7s?si=qaUgo75bUa3AMQxD   \n",
       "\n",
       "  image_path  \n",
       "0   No image  \n",
       "1   No image  \n",
       "2   No image  \n",
       "3   No image  \n",
       "4   No image  "
      ]
     },
     "execution_count": 12,
     "metadata": {},
     "output_type": "execute_result"
    }
   ],
   "source": [
    "cleaned_data = pd.read_csv('../docs/cleaned/all_scraped_messages_cleaned.csv')\n",
    "cleaned_data.head()"
   ]
  },
  {
   "cell_type": "markdown",
   "metadata": {},
   "source": [
    ">> ## Store Cleaned Data"
   ]
  },
  {
   "cell_type": "code",
   "execution_count": 13,
   "metadata": {},
   "outputs": [],
   "source": [
    "def store_cleaned_data(data, channel_name):\n",
    "    cleaned_file_path = os.path.join(RAW_DATA_PATH, f'cleaned_{channel_name}.csv')\n",
    "    data.to_csv(cleaned_file_path, index=False)\n",
    "    logging.info(f'Stored cleaned data to {cleaned_file_path}')\n"
   ]
  },
  {
   "cell_type": "code",
   "execution_count": 14,
   "metadata": {},
   "outputs": [
    {
     "name": "stderr",
     "output_type": "stream",
     "text": [
      "Using cache found in /home/aman/.cache/torch/hub/ultralytics_yolov5_master\n",
      "YOLOv5 🚀 2024-10-15 Python-3.10.12 torch-2.4.1+cu121 CPU\n",
      "\n",
      "Fusing layers... \n",
      "YOLOv5s summary: 213 layers, 7225885 parameters, 0 gradients, 16.4 GFLOPs\n",
      "Adding AutoShape... \n",
      "/home/aman/.cache/torch/hub/ultralytics_yolov5_master/models/common.py:892: FutureWarning: `torch.cuda.amp.autocast(args...)` is deprecated. Please use `torch.amp.autocast('cuda', args...)` instead.\n",
      "  with amp.autocast(autocast):\n",
      "Saved 1 image to \u001b[1mruns/detect/exp2213\u001b[0m\n",
      "/home/aman/.cache/torch/hub/ultralytics_yolov5_master/models/common.py:892: FutureWarning: `torch.cuda.amp.autocast(args...)` is deprecated. Please use `torch.amp.autocast('cuda', args...)` instead.\n",
      "  with amp.autocast(autocast):\n",
      "Saved 1 image to \u001b[1mruns/detect/exp2214\u001b[0m\n",
      "/home/aman/.cache/torch/hub/ultralytics_yolov5_master/models/common.py:892: FutureWarning: `torch.cuda.amp.autocast(args...)` is deprecated. Please use `torch.amp.autocast('cuda', args...)` instead.\n",
      "  with amp.autocast(autocast):\n"
     ]
    },
    {
     "name": "stdout",
     "output_type": "stream",
     "text": [
      "Detected objects in photo_2024-10-15_19-10-17.jpg\n",
      "Detected objects in photo_2024-10-15_19-10-19.jpg\n"
     ]
    },
    {
     "name": "stderr",
     "output_type": "stream",
     "text": [
      "Saved 1 image to \u001b[1mruns/detect/exp2215\u001b[0m\n",
      "/home/aman/.cache/torch/hub/ultralytics_yolov5_master/models/common.py:892: FutureWarning: `torch.cuda.amp.autocast(args...)` is deprecated. Please use `torch.amp.autocast('cuda', args...)` instead.\n",
      "  with amp.autocast(autocast):\n",
      "Saved 1 image to \u001b[1mruns/detect/exp2216\u001b[0m\n",
      "/home/aman/.cache/torch/hub/ultralytics_yolov5_master/models/common.py:892: FutureWarning: `torch.cuda.amp.autocast(args...)` is deprecated. Please use `torch.amp.autocast('cuda', args...)` instead.\n",
      "  with amp.autocast(autocast):\n"
     ]
    },
    {
     "name": "stdout",
     "output_type": "stream",
     "text": [
      "Detected objects in photo_2024-10-15_19-10-27.jpg\n",
      "Detected objects in photo_2024-10-15_19-10-19 (1).jpg\n"
     ]
    },
    {
     "name": "stderr",
     "output_type": "stream",
     "text": [
      "Saved 1 image to \u001b[1mruns/detect/exp2217\u001b[0m\n",
      "/home/aman/.cache/torch/hub/ultralytics_yolov5_master/models/common.py:892: FutureWarning: `torch.cuda.amp.autocast(args...)` is deprecated. Please use `torch.amp.autocast('cuda', args...)` instead.\n",
      "  with amp.autocast(autocast):\n",
      "Saved 1 image to \u001b[1mruns/detect/exp2218\u001b[0m\n"
     ]
    },
    {
     "name": "stdout",
     "output_type": "stream",
     "text": [
      "Detected objects in photo_2024-10-15_19-10-29.jpg\n",
      "Detected objects in photo_2024-10-15_19-10-19 (2).jpg\n"
     ]
    },
    {
     "name": "stderr",
     "output_type": "stream",
     "text": [
      "/home/aman/.cache/torch/hub/ultralytics_yolov5_master/models/common.py:892: FutureWarning: `torch.cuda.amp.autocast(args...)` is deprecated. Please use `torch.amp.autocast('cuda', args...)` instead.\n",
      "  with amp.autocast(autocast):\n",
      "Saved 1 image to \u001b[1mruns/detect/exp2219\u001b[0m\n",
      "/home/aman/.cache/torch/hub/ultralytics_yolov5_master/models/common.py:892: FutureWarning: `torch.cuda.amp.autocast(args...)` is deprecated. Please use `torch.amp.autocast('cuda', args...)` instead.\n",
      "  with amp.autocast(autocast):\n",
      "Saved 1 image to \u001b[1mruns/detect/exp2220\u001b[0m\n",
      "/home/aman/.cache/torch/hub/ultralytics_yolov5_master/models/common.py:892: FutureWarning: `torch.cuda.amp.autocast(args...)` is deprecated. Please use `torch.amp.autocast('cuda', args...)` instead.\n",
      "  with amp.autocast(autocast):\n"
     ]
    },
    {
     "name": "stdout",
     "output_type": "stream",
     "text": [
      "Detected objects in photo_2024-10-15_19-10-30.jpg\n",
      "Detected objects in photo_2024-10-15_19-10-15.jpg\n"
     ]
    },
    {
     "name": "stderr",
     "output_type": "stream",
     "text": [
      "Saved 1 image to \u001b[1mruns/detect/exp2221\u001b[0m\n",
      "/home/aman/.cache/torch/hub/ultralytics_yolov5_master/models/common.py:892: FutureWarning: `torch.cuda.amp.autocast(args...)` is deprecated. Please use `torch.amp.autocast('cuda', args...)` instead.\n",
      "  with amp.autocast(autocast):\n"
     ]
    },
    {
     "name": "stdout",
     "output_type": "stream",
     "text": [
      "Detected objects in photo_2024-10-15_19-10-28 (1).jpg\n"
     ]
    },
    {
     "name": "stderr",
     "output_type": "stream",
     "text": [
      "Saved 1 image to \u001b[1mruns/detect/exp2222\u001b[0m\n",
      "/home/aman/.cache/torch/hub/ultralytics_yolov5_master/models/common.py:892: FutureWarning: `torch.cuda.amp.autocast(args...)` is deprecated. Please use `torch.amp.autocast('cuda', args...)` instead.\n",
      "  with amp.autocast(autocast):\n"
     ]
    },
    {
     "name": "stdout",
     "output_type": "stream",
     "text": [
      "Detected objects in photo_2024-10-15_19-10-25.jpg\n"
     ]
    },
    {
     "name": "stderr",
     "output_type": "stream",
     "text": [
      "Saved 1 image to \u001b[1mruns/detect/exp2223\u001b[0m\n",
      "/home/aman/.cache/torch/hub/ultralytics_yolov5_master/models/common.py:892: FutureWarning: `torch.cuda.amp.autocast(args...)` is deprecated. Please use `torch.amp.autocast('cuda', args...)` instead.\n",
      "  with amp.autocast(autocast):\n",
      "Saved 1 image to \u001b[1mruns/detect/exp2224\u001b[0m\n"
     ]
    },
    {
     "name": "stdout",
     "output_type": "stream",
     "text": [
      "Detected objects in photo_2024-10-15_19-10-23.jpg\n",
      "Detected objects in photo_2024-10-15_19-10-28.jpg\n"
     ]
    },
    {
     "name": "stderr",
     "output_type": "stream",
     "text": [
      "/home/aman/.cache/torch/hub/ultralytics_yolov5_master/models/common.py:892: FutureWarning: `torch.cuda.amp.autocast(args...)` is deprecated. Please use `torch.amp.autocast('cuda', args...)` instead.\n",
      "  with amp.autocast(autocast):\n",
      "Saved 1 image to \u001b[1mruns/detect/exp2225\u001b[0m\n",
      "/home/aman/.cache/torch/hub/ultralytics_yolov5_master/models/common.py:892: FutureWarning: `torch.cuda.amp.autocast(args...)` is deprecated. Please use `torch.amp.autocast('cuda', args...)` instead.\n",
      "  with amp.autocast(autocast):\n",
      "Saved 1 image to \u001b[1mruns/detect/exp2226\u001b[0m\n"
     ]
    },
    {
     "name": "stdout",
     "output_type": "stream",
     "text": [
      "Detected objects in photo_2024-10-15_19-10-20.jpg\n",
      "Detected objects in photo_2024-10-15_19-10-26.jpg\n"
     ]
    },
    {
     "name": "stderr",
     "output_type": "stream",
     "text": [
      "/home/aman/.cache/torch/hub/ultralytics_yolov5_master/models/common.py:892: FutureWarning: `torch.cuda.amp.autocast(args...)` is deprecated. Please use `torch.amp.autocast('cuda', args...)` instead.\n",
      "  with amp.autocast(autocast):\n",
      "Saved 1 image to \u001b[1mruns/detect/exp2227\u001b[0m\n",
      "/home/aman/.cache/torch/hub/ultralytics_yolov5_master/models/common.py:892: FutureWarning: `torch.cuda.amp.autocast(args...)` is deprecated. Please use `torch.amp.autocast('cuda', args...)` instead.\n",
      "  with amp.autocast(autocast):\n"
     ]
    },
    {
     "name": "stdout",
     "output_type": "stream",
     "text": [
      "Detected objects in photo_2024-10-15_19-10-18.jpg\n"
     ]
    },
    {
     "name": "stderr",
     "output_type": "stream",
     "text": [
      "Saved 1 image to \u001b[1mruns/detect/exp2228\u001b[0m\n",
      "/home/aman/.cache/torch/hub/ultralytics_yolov5_master/models/common.py:892: FutureWarning: `torch.cuda.amp.autocast(args...)` is deprecated. Please use `torch.amp.autocast('cuda', args...)` instead.\n",
      "  with amp.autocast(autocast):\n"
     ]
    },
    {
     "name": "stdout",
     "output_type": "stream",
     "text": [
      "Detected objects in photo_2024-10-15_19-10-29 (2).jpg\n"
     ]
    },
    {
     "name": "stderr",
     "output_type": "stream",
     "text": [
      "Saved 1 image to \u001b[1mruns/detect/exp2229\u001b[0m\n",
      "/home/aman/.cache/torch/hub/ultralytics_yolov5_master/models/common.py:892: FutureWarning: `torch.cuda.amp.autocast(args...)` is deprecated. Please use `torch.amp.autocast('cuda', args...)` instead.\n",
      "  with amp.autocast(autocast):\n",
      "Saved 1 image to \u001b[1mruns/detect/exp2230\u001b[0m\n",
      "/home/aman/.cache/torch/hub/ultralytics_yolov5_master/models/common.py:892: FutureWarning: `torch.cuda.amp.autocast(args...)` is deprecated. Please use `torch.amp.autocast('cuda', args...)` instead.\n",
      "  with amp.autocast(autocast):\n"
     ]
    },
    {
     "name": "stdout",
     "output_type": "stream",
     "text": [
      "Detected objects in photo_2024-10-15_19-10-17 (1).jpg\n",
      "Detected objects in photo_2024-10-15_19-10-29 (1).jpg\n"
     ]
    },
    {
     "name": "stderr",
     "output_type": "stream",
     "text": [
      "Saved 1 image to \u001b[1mruns/detect/exp2231\u001b[0m\n"
     ]
    },
    {
     "name": "stdout",
     "output_type": "stream",
     "text": [
      "Detected objects in photo_2024-10-15_19-10-16.jpg\n"
     ]
    }
   ],
   "source": [
    "import torch\n",
    "import os\n",
    "import cv2\n",
    "import logging\n",
    "\n",
    "# Setup logging\n",
    "logging.basicConfig(filename='../logs/yolo_detection.log', level=logging.INFO,\n",
    "                    format='%(asctime)s:%(levelname)s:%(message)s')\n",
    "\n",
    "model = torch.hub.load('ultralytics/yolov5', 'yolov5s') \n",
    "\n",
    "IMAGE_DIR = '../docs/images/'\n",
    "OUTPUT_DIR = '../docs/yolo_output/'\n",
    "\n",
    "os.makedirs(OUTPUT_DIR, exist_ok=True)\n",
    "\n",
    "for img_file in os.listdir(IMAGE_DIR):\n",
    "    img_path = os.path.join(IMAGE_DIR, img_file)\n",
    "    \n",
    "    if img_file.endswith(('.jpg', '.jpeg', '.png')):\n",
    "        img = cv2.imread(img_path)\n",
    "        \n",
    "        results = model(img)\n",
    "        \n",
    "        results.save(OUTPUT_DIR)\n",
    "        \n",
    "        logging.info(f'Processed {img_file} and saved results to {OUTPUT_DIR}')\n",
    "        print(f'Detected objects in {img_file}')\n",
    "\n"
   ]
  },
  {
   "cell_type": "code",
   "execution_count": 16,
   "metadata": {},
   "outputs": [
    {
     "ename": "NameError",
     "evalue": "name 'LABELS_PATH' is not defined",
     "output_type": "error",
     "traceback": [
      "\u001b[0;31m---------------------------------------------------------------------------\u001b[0m",
      "\u001b[0;31mNameError\u001b[0m                                 Traceback (most recent call last)",
      "Cell \u001b[0;32mIn[16], line 54\u001b[0m\n\u001b[1;32m     52\u001b[0m all_messages_df \u001b[38;5;241m=\u001b[39m pd\u001b[38;5;241m.\u001b[39mread_csv(\u001b[38;5;124m'\u001b[39m\u001b[38;5;124m../docs/raw/all_scraped_messages.csv\u001b[39m\u001b[38;5;124m'\u001b[39m)\n\u001b[1;32m     53\u001b[0m \u001b[38;5;66;03m# Example usage (assuming 'all_messages_df' is the DataFrame that holds scraped message data):\u001b[39;00m\n\u001b[0;32m---> 54\u001b[0m df_labeled_data \u001b[38;5;241m=\u001b[39m \u001b[43mload_labeled_data\u001b[49m\u001b[43m(\u001b[49m\u001b[43mall_messages_df\u001b[49m\u001b[43m)\u001b[49m\n\u001b[1;32m     56\u001b[0m \u001b[38;5;66;03m# Display the labeled DataFrame with all attributes\u001b[39;00m\n\u001b[1;32m     57\u001b[0m \u001b[38;5;28mprint\u001b[39m(df_labeled_data\u001b[38;5;241m.\u001b[39mhead())\n",
      "Cell \u001b[0;32mIn[16], line 5\u001b[0m, in \u001b[0;36mload_labeled_data\u001b[0;34m(all_messages_df)\u001b[0m\n\u001b[1;32m      2\u001b[0m labeled_data \u001b[38;5;241m=\u001b[39m []\n\u001b[1;32m      4\u001b[0m \u001b[38;5;66;03m# Loop through all files in the image directory to find labeled data\u001b[39;00m\n\u001b[0;32m----> 5\u001b[0m \u001b[38;5;28;01mfor\u001b[39;00m file_name \u001b[38;5;129;01min\u001b[39;00m os\u001b[38;5;241m.\u001b[39mlistdir(\u001b[43mLABELS_PATH\u001b[49m):\n\u001b[1;32m      6\u001b[0m     \u001b[38;5;28;01mif\u001b[39;00m file_name\u001b[38;5;241m.\u001b[39mendswith(\u001b[38;5;124m'\u001b[39m\u001b[38;5;124m.txt\u001b[39m\u001b[38;5;124m'\u001b[39m):  \u001b[38;5;66;03m# Process label files\u001b[39;00m\n\u001b[1;32m      7\u001b[0m         image_file \u001b[38;5;241m=\u001b[39m file_name\u001b[38;5;241m.\u001b[39mreplace(\u001b[38;5;124m'\u001b[39m\u001b[38;5;124m.txt\u001b[39m\u001b[38;5;124m'\u001b[39m, \u001b[38;5;124m'\u001b[39m\u001b[38;5;124m.jpg\u001b[39m\u001b[38;5;124m'\u001b[39m)\n",
      "\u001b[0;31mNameError\u001b[0m: name 'LABELS_PATH' is not defined"
     ]
    }
   ],
   "source": [
    "IMAGE_DATA_PATH = \"../docs/images/\"\n",
    "LABELS_PATH = \"../docs/images/\"\n",
    "def load_labeled_data(all_messages_df):\n",
    "    labeled_data = []\n",
    "    \n",
    "    # Loop through all files in the image directory to find labeled data\n",
    "    for file_name in os.listdir(LABELS_PATH):\n",
    "        if file_name.endswith('.txt'):  # Process label files\n",
    "            image_file = file_name.replace('.txt', '.jpg')\n",
    "            label_file = os.path.join(LABELS_PATH, file_name)\n",
    "            image_file_path = os.path.join(LABELS_PATH, image_file)\n",
    "            \n",
    "            # Ensure the image exists\n",
    "            if os.path.exists(image_file_path):\n",
    "                # Read the image using OpenCV to get image size\n",
    "                image = cv2.imread(image_file_path)\n",
    "                image_height, image_width, _ = image.shape  # Extract image dimensions\n",
    "                \n",
    "                # Read label data from the .txt file\n",
    "                with open(label_file, 'r') as f:\n",
    "                    for line in f.readlines():\n",
    "                        label_data = line.strip().split()\n",
    "                        class_id, bbox_center_x, bbox_center_y, bbox_width, bbox_height = map(float, label_data)\n",
    "                        \n",
    "                        # Convert YOLO's normalized bbox data to actual pixel values\n",
    "                        bbox_center_x = bbox_center_x * image_width\n",
    "                        bbox_center_y = bbox_center_y * image_height\n",
    "                        bbox_width = bbox_width * image_width\n",
    "                        bbox_height = bbox_height * image_height\n",
    "                        \n",
    "                        # Find matching image in the original scraped DataFrame\n",
    "                        message_metadata = all_messages_df[all_messages_df['image_path'] == image_file].iloc[0]\n",
    "                        \n",
    "                        # Append all relevant information to the labeled_data list\n",
    "                        labeled_data.append({\n",
    "                            'channel_name': message_metadata['channel_name'],\n",
    "                            'message_id': message_metadata['message_id'],\n",
    "                            'date': message_metadata['date'],\n",
    "                            'text': message_metadata['text'],\n",
    "                            'image_path': image_file,\n",
    "                            'image_width': image_width,\n",
    "                            'image_height': image_height,\n",
    "                            'class_id': class_id,\n",
    "                            'bbox_center_x': bbox_center_x,\n",
    "                            'bbox_center_y': bbox_center_y,\n",
    "                            'bbox_width': bbox_width,\n",
    "                            'bbox_height': bbox_height\n",
    "                        })\n",
    "\n",
    "    # Convert the labeled data into a DataFrame for easy analysis\n",
    "    df_labeled_data = pd.DataFrame(labeled_data)\n",
    "    return df_labeled_data\n",
    "\n",
    "all_messages_df = pd.read_csv('../docs/raw/all_scraped_messages.csv')\n",
    "# Example usage (assuming 'all_messages_df' is the DataFrame that holds scraped message data):\n",
    "df_labeled_data = load_labeled_data(all_messages_df)\n",
    "\n",
    "# Display the labeled DataFrame with all attributes\n",
    "print(df_labeled_data.head())"
   ]
  }
 ],
 "metadata": {
  "kernelspec": {
   "display_name": "venv",
   "language": "python",
   "name": "python3"
  },
  "language_info": {
   "codemirror_mode": {
    "name": "ipython",
    "version": 3
   },
   "file_extension": ".py",
   "mimetype": "text/x-python",
   "name": "python",
   "nbconvert_exporter": "python",
   "pygments_lexer": "ipython3",
   "version": "3.10.12"
  }
 },
 "nbformat": 4,
 "nbformat_minor": 2
}
