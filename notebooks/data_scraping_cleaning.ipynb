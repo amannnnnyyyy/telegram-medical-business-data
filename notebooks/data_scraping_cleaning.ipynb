{
 "cells": [
  {
   "cell_type": "code",
   "execution_count": null,
   "metadata": {},
   "outputs": [],
   "source": [
    "from telethon.sync import TelegramClient\n",
    "import pandas as pd\n",
    "import logging\n",
    "import os\n",
    "\n",
    "# Logging setup\n",
    "logging.basicConfig(filename='../logs/scraping.log', level=logging.INFO, \n",
    "                    format='%(asctime)s:%(levelname)s:%(message)s')\n",
    "\n",
    "# Replace these with your credentials\n",
    "api_id = '21772007'\n",
    "api_hash = '86949ced5a14827ce71e49cc40fab7e9'\n",
    "phone = '+251919202342'\n",
    "\n",
    "# Define the path for saving raw data\n",
    "RAW_DATA_PATH = '../data/raw/'\n",
    "\n",
    "# Function to scrape a Telegram channel\n",
    "async def scrape_channel(channel_name):\n",
    "    async with TelegramClient('session_name', api_id, api_hash) as client:\n",
    "        messages = []\n",
    "        async for message in client.iter_messages(channel_name):\n",
    "            if message.text:\n",
    "                messages.append({\n",
    "                    'message_id': message.id,\n",
    "                    'date': message.date.strftime('%Y-%m-%d %H:%M:%S'),\n",
    "                    'text': message.text\n",
    "                })\n",
    "        # Save to CSV\n",
    "        df = pd.DataFrame(messages)\n",
    "        df.to_csv(os.path.join(RAW_DATA_PATH, f'{channel_name}.csv'), index=False)\n",
    "        logging.info(f'Scraped data from {channel_name} and saved to {channel_name}.csv')\n",
    "\n",
    "# List of channels to scrape\n",
    "channels = ['DoctorsET', 'lobelia4cosmetics', 'yetenaweg', 'EAHCI']\n",
    "\n",
    "# Run scraping process for each channel\n",
    "for channel in channels:\n",
    "    await scrape_channel(channel)\n"
   ]
  }
 ],
 "metadata": {
  "language_info": {
   "name": "python"
  }
 },
 "nbformat": 4,
 "nbformat_minor": 2
}
